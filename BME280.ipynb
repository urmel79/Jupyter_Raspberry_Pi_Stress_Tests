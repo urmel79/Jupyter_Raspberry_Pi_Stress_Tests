{
 "cells": [
  {
   "cell_type": "markdown",
   "metadata": {},
   "source": [
    "# BME280: Bring up the sensor via an USB-to-I2C-Adapter\n",
    "\n",
    "Date: 2021-05-29\n",
    "\n",
    "*Wichtig:*  \n",
    "Der BM**P**280 ist nur ein Drucksensor; der BM**E**280 ist das technische Upgrade und misst zusätzlich Temperatur und Luftfeuchtigkeit!\n",
    "\n",
    "Datenblatt: https://raw.githubusercontent.com/rm-hull/bme280/master/doc/tech-spec/BME280.pdf  \n",
    "Python-Lib für Raspi: https://pypi.org/project/RPi.bme280/\n",
    "\n",
    "## Installation benötigter Python-Bibliotheken\n",
    "\n",
    "Installation erfolgt in Python-Environment:\n",
    "```\n",
    "$ source ~/jupyter-env/bin/activate\n",
    "$ pip install smbus2 RPi.bme280\n",
    "```\n",
    "## Installation des Treibers für den USB-I2C-Adapter\n",
    "\n",
    "<figure>\n",
    "  <img src=\"./images/i2c-to-usb_ch341.jpg\" width=\"400px\" height=\"600\" alt=\"USB-I2C-Adapter\" />\n",
    "  <figcaption>USB-I2C-Adapter auf Basis des CH341-Chips</figcaption>\n",
    "</figure>\n",
    "\n",
    "Bei Verwendung eines USB-I2C-Adapters auf Basis des CH341-Chips muss das passende Kernelmodul compiliert und geladen werden.\n",
    "Es gibt 2 verschiedene Implementierungen, wobei davon nur eine funktioniert:\n",
    "\n",
    "- https://github.com/allanbian1017/i2c-ch341-usb <span style=\"color:green\">[funktioniert]</span>\n",
    "- https://github.com/gschorcht/i2c-ch341-usb <span style=\"color:red\">[funktioniert NICHT]</span>\n",
    "\n",
    "### Prerequisites\n",
    "\n",
    "To compile the driver, you must have installed current kernel header files.\n",
    "\n",
    "Even though it is not mandatory, it is highly recommended to use DKMS (dynamic kernel module support) for the installation of the driver. DKMS allows to manage kernel modules whose sources reside outside the kernel source tree. Such modules are then automatically rebuilt when a new kernel version is installed.\n",
    "\n",
    "To use DKMS, it has to be installed before, e.g., with following command on Debian based systems. The current kernel header files will be installed automatically.\n",
    "\n",
    "```\n",
    "# apt update\n",
    "# apt install dkms\n",
    "```\n",
    "\n",
    "### Compile the kernel module and load it\n",
    "\n",
    "```\n",
    "$ mkdir ~/drivers && cd ~/drivers\n",
    "$ git clone https://github.com/allanbian1017/i2c-ch341-usb.git\n",
    "$ cd i2c-ch341-usb\n",
    "$ make\n",
    "\n",
    "$ sudo insmod i2c-ch341-usb.ko\n",
    "```\n",
    "\n",
    "### Nacharbeiten\n",
    "\n",
    "Welche Kernel-Module sind geladen?\n",
    "\n",
    "```\n",
    "$ lsmod | grep -i i2c\n",
    "$ lsmod | grep -i ch341\n",
    "```\n",
    "\n",
    "Standardmäßig wird das Kernel-Modul ```ch341``` geladen und vom Modul ```usbserial``` verwendet. Dieses nutzt lediglich die UART-Funktion des CH341-Chips und erzeugt so einen Konflikt mit I2C-Funktion. Erkennbar ist dies mit folgendem Befehl:\n",
    "\n",
    "```\n",
    "$dmesg\n",
    "\n",
    "...\n",
    "[  225.466832] ch341 1-1.2:1.0: ch341-uart converter detected\n",
    "[  225.469053] usb 1-1.2: ch341-uart converter now attached to ttyUSB0\n",
    "...\n",
    "```\n",
    "\n",
    "Daher wird dieses Modul zunächst entladen und danach das I2C-Modul ```i2c-ch341-usb``` geladen - falls noch nicht automatisch geschehen.\n",
    "\n",
    "Entladen und laden der Module:\n",
    "\n",
    "```\n",
    "$ sudo rmmod ch341\n",
    "$ sudo modprobe i2c-ch341-usb\n",
    "```\n",
    "\n",
    "Wenn dies ohne Fehlermeldung geklappt hat sollte ```dmesg``` folgendes ausgeben:\n",
    "\n",
    "```\n",
    "...\n",
    "[  551.709710] i2c_ch341_usb: loading out-of-tree module taints kernel.\n",
    "[  551.710558] i2c i2c-11: connected i2c-ch341-usb device\n",
    "[  551.710676] usbcore: registered new interface driver i2c-ch341-usb\n",
    "...\n",
    "```\n",
    "\n",
    "### Funktionskontrolle\n",
    "\n",
    "Nun sollte neben dem Raspberry Pi-eigenen I2C-Bus (```/dev/i2c-1```) eine weitere Bus-Gerätedatei verfügbar sein (z. B. ```/dev/i2c-11```). Angeschlossene I2C-Devices können auf dem Bus erkannt und im Weiteren verwendet werden (hier z. B. der Sensor BME280 mit der Adresse 0x76):\n",
    "\n",
    "```\n",
    "$ i2cdetect -y 11\n",
    "\n",
    "     0  1  2  3  4  5  6  7  8  9  a  b  c  d  e  f\n",
    "00:          -- -- -- -- -- -- -- -- -- -- -- -- -- \n",
    "10: -- -- -- -- -- -- -- -- -- -- -- -- -- -- -- -- \n",
    "20: -- -- -- -- -- -- -- -- -- -- -- -- -- -- -- -- \n",
    "30: -- -- -- -- -- -- -- -- -- -- -- -- -- -- -- -- \n",
    "40: -- -- -- -- -- -- -- -- -- -- -- -- -- -- -- -- \n",
    "50: -- -- -- -- -- -- -- -- -- -- -- -- -- -- -- -- \n",
    "60: -- -- -- -- -- -- -- -- -- -- -- -- -- -- -- -- \n",
    "70: -- -- -- -- -- -- 76 --\n",
    "```\n",
    "\n",
    "### Automatisches Entladen / Laden der Kernelmodule beim Bootvorgang (Achtung: funktioniert noch nicht!)\n",
    "\n",
    "```\n",
    "$ sudo nano /etc/udev/rules.d/20-i2c-usb.rules\n",
    "\n",
    "#CH341 I2C to USB adapter\n",
    "ACTION==\"add\", SUBSYSTEM==\"i2c-dev\", ATTRS{idVendor}==\"1a86\", ATTRS{idProduct}==\"5512\", RUN+=\"/sbin/modprobe i2c-ch341-usb\"\n",
    "```\n",
    "\n",
    "Neustart des ```udev```-Daemons:\n",
    "\n",
    "```\n",
    "$ sudo systemctl restart udev.service\n",
    "```\n",
    "\n"
   ]
  },
  {
   "cell_type": "code",
   "execution_count": 1,
   "metadata": {},
   "outputs": [
    {
     "name": "stdout",
     "output_type": "stream",
     "text": [
      "2021-05-20 18:27:04 Temperature: 22.58 °C, Pressure: 1004.87 hPa, Humidity: 39.59 % rH\n"
     ]
    }
   ],
   "source": [
    "import smbus2\n",
    "import bme280\n",
    "import time\n",
    "\n",
    "port = 11\n",
    "address = 0x76\n",
    "bus = smbus2.SMBus(port)\n",
    "\n",
    "INTERVAL = 1.0\n",
    "\n",
    "calibration_params = bme280.load_calibration_params(bus, address)\n",
    "\n",
    "#while True:\n",
    "# the sample method will take a single reading and return\n",
    "# a compensated_reading object\n",
    "data = bme280.sample(bus, address, calibration_params)\n",
    "\n",
    "# the compensated_reading class has the following attributes\n",
    "#print(data.id)\n",
    "#print(data.timestamp)\n",
    "#print(data.temperature)\n",
    "#print(data.pressure)\n",
    "#print(data.humidity)\n",
    "\n",
    "print(\"{time:s} Temperature: {temperature:.2f} °C, Pressure: {pressure:.2f} hPa, Humidity: {humidity:.2f} % rH\".format(time=data.timestamp.strftime('%Y-%m-%d %H:%M:%S'), temperature=data.temperature, pressure=data.pressure, humidity=data.humidity))\n",
    "    \n",
    "#    time.sleep(INTERVAL)\n",
    "\n",
    "# there is a handy string representation too\n",
    "#print(data)"
   ]
  },
  {
   "cell_type": "code",
   "execution_count": 4,
   "metadata": {},
   "outputs": [
    {
     "name": "stdout",
     "output_type": "stream",
     "text": [
      "compensated_reading(id=7a02a4d9-733b-413d-9605-64995e65a33f, timestamp=2021-05-20 15:26:17.315919, temp=20.535 °C, pressure=1005.39 hPa, humidity=38.30 % rH)\n"
     ]
    }
   ],
   "source": [
    "print(data)"
   ]
  },
  {
   "cell_type": "code",
   "execution_count": 5,
   "metadata": {},
   "outputs": [
    {
     "data": {
      "text/plain": [
       "'2021-05-20 15:26:17'"
      ]
     },
     "execution_count": 5,
     "metadata": {},
     "output_type": "execute_result"
    }
   ],
   "source": [
    "data.timestamp.strftime('%Y-%m-%d %H:%M:%S')"
   ]
  },
  {
   "cell_type": "code",
   "execution_count": 14,
   "metadata": {},
   "outputs": [],
   "source": [
    "import curses"
   ]
  },
  {
   "cell_type": "code",
   "execution_count": 15,
   "metadata": {},
   "outputs": [
    {
     "data": {
      "text/plain": [
       "1562942569.8146622"
      ]
     },
     "execution_count": 15,
     "metadata": {},
     "output_type": "execute_result"
    }
   ],
   "source": [
    "time.time()"
   ]
  },
  {
   "cell_type": "code",
   "execution_count": 18,
   "metadata": {},
   "outputs": [
    {
     "data": {
      "text/plain": [
       "1562928535.463544"
      ]
     },
     "execution_count": 18,
     "metadata": {},
     "output_type": "execute_result"
    }
   ],
   "source": [
    "data.timestamp.timestamp()"
   ]
  },
  {
   "cell_type": "code",
   "execution_count": null,
   "metadata": {},
   "outputs": [],
   "source": []
  }
 ],
 "metadata": {
  "authors": [
   {
    "name": "Björn Kasper (bjoern.kasper@online.de)"
   }
  ],
  "kernelspec": {
   "display_name": "Python 3",
   "language": "python",
   "name": "python3"
  },
  "language_info": {
   "codemirror_mode": {
    "name": "ipython",
    "version": 3
   },
   "file_extension": ".py",
   "mimetype": "text/x-python",
   "name": "python",
   "nbconvert_exporter": "python",
   "pygments_lexer": "ipython3",
   "version": "3.7.3"
  },
  "title": "BME280: Bring up and read the sensor values"
 },
 "nbformat": 4,
 "nbformat_minor": 4
}
