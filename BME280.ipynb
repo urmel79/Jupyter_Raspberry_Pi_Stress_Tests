{
 "cells": [
  {
   "cell_type": "markdown",
   "metadata": {},
   "source": [
    "# BME280: Launching the sensor via an USB-to-I2C adapter\n",
    "\n",
    "*Important:*  \n",
    "The BM**P**280 is only a pressure sensor; the BM**E**280 is the technical upgrade and additionally measures temperature and humidity!\n",
    "\n",
    "- Data sheet: [https://raw.githubusercontent.com/rm-hull/bme280/master/doc/tech-spec/BME280.pdf](https://raw.githubusercontent.com/rm-hull/bme280/master/doc/tech-spec/BME280.pdf)\n",
    "- Python library for Raspberry Pi: [https://pypi.org/project/RPi.bme280/](https://pypi.org/project/RPi.bme280/)\n"
   ]
  },
  {
   "cell_type": "markdown",
   "metadata": {},
   "source": [
    "## Installation of required Python libraries\n",
    "\n",
    "The installation takes place in a Python environment:\n",
    "```\n",
    "$ source ~/jupyter-env/bin/activate\n",
    "$ pip install smbus2 RPi.bme280\n",
    "```"
   ]
  },
  {
   "cell_type": "markdown",
   "metadata": {},
   "source": [
    "## Installing the driver for the USB-to-I2C adapter\n",
    "\n",
    "![USB-to-I2C adapter based on the CH341 chip](images/i2c_adapter/i2c-to-usb_ch341_kl.jpg)  \n",
    "USB-to-I2C adapter based on the CH341 chip\n",
    "\n",
    "When using a USB-to-I2C adapter based on the CH341 chip, the appropriate kernel module must be compiled and loaded.\n",
    "There are 2 different implementations, but only one of them works:\n",
    "\n",
    "- [https://github.com/allanbian1017/i2c-ch341-usb](https://github.com/allanbian1017/i2c-ch341-usb) <span style=\"color:green\">[works]</span>\n",
    "- [https://github.com/gschorcht/i2c-ch341-usb](https://github.com/gschorcht/i2c-ch341-usb) <span style=\"color:red\">[does NOT work]</span>"
   ]
  },
  {
   "cell_type": "markdown",
   "metadata": {
    "tags": []
   },
   "source": [
    "### Prerequisites\n",
    "\n",
    "To compile the driver, you must have installed current kernel header files.\n",
    "\n",
    "Even though it is not mandatory, it is highly recommended to use DKMS (dynamic kernel module support) for the installation of the driver. DKMS allows to manage kernel modules whose sources reside outside the kernel source tree. Such modules are then automatically rebuilt when a new kernel version is installed.\n",
    "\n",
    "To use DKMS, it has to be installed before, e.g., with following command on Debian based systems. The current kernel header files will be installed automatically.\n",
    "\n",
    "```\n",
    "# apt update\n",
    "# apt install dkms\n",
    "```"
   ]
  },
  {
   "cell_type": "markdown",
   "metadata": {},
   "source": [
    "### Compile the kernel module and load it\n",
    "\n",
    "```\n",
    "$ mkdir ~/drivers && cd ~/drivers\n",
    "$ git clone https://github.com/allanbian1017/i2c-ch341-usb.git\n",
    "$ cd i2c-ch341-usb\n",
    "$ make\n",
    "```"
   ]
  },
  {
   "cell_type": "markdown",
   "metadata": {
    "tags": []
   },
   "source": [
    "### Subsequent work\n",
    "\n",
    "Which kernel modules are loaded?\n",
    "\n",
    "```\n",
    "$ lsmod | grep -i i2c\n",
    "$ lsmod | grep -i ch341\n",
    "```\n",
    "\n",
    "By default the kernel module ```ch341``` is loaded and used by the module ```usbserial```. This uses only the UART function of the CH341 chip and thus creates a conflict with I2C function. This can be recognized with the following command:\n",
    "\n",
    "```\n",
    "$dmesg\n",
    "\n",
    "...\n",
    "[  225.466832] ch341 1-1.2:1.0: ch341-uart converter detected\n",
    "[  225.469053] usb 1-1.2: ch341-uart converter now attached to ttyUSB0\n",
    "...\n",
    "```\n",
    "\n",
    "Therefore, this module is first unloaded and then the I2C module ```i2c-ch341-usb``` is loaded - if not already done automatically.\n",
    "\n",
    "Unloading and loading of the modules:\n",
    "\n",
    "```\n",
    "$ sudo rmmod ch341\n",
    "$ sudo insmod ~/drivers/i2c-ch341-usb/i2c-ch341-usb.ko\n",
    "```\n",
    "\n",
    "If this worked without error message ```dmesg``` should print the following:\n",
    "\n",
    "```\n",
    "...\n",
    "[  551.709710] i2c_ch341_usb: loading out-of-tree module taints kernel.\n",
    "[  551.710558] i2c i2c-11: connected i2c-ch341-usb device\n",
    "[  551.710676] usbcore: registered new interface driver i2c-ch341-usb\n",
    "...\n",
    "```"
   ]
  },
  {
   "cell_type": "markdown",
   "metadata": {},
   "source": [
    "### Function control\n",
    "\n",
    "Now besides the Raspberry Pi's own I2C bus (```/dev/i2c-1```) another bus device file should be available (e.g. ```/dev/i2c-11```). I2C devices connected here can be recognized on the bus and used further on (here e.g. the sensor BME280 with address 0x76):\n",
    "\n",
    "```\n",
    "$ i2cdetect -y 11\n",
    "\n",
    "     0  1  2  3  4  5  6  7  8  9  a  b  c  d  e  f\n",
    "00:          -- -- -- -- -- -- -- -- -- -- -- -- -- \n",
    "10: -- -- -- -- -- -- -- -- -- -- -- -- -- -- -- -- \n",
    "20: -- -- -- -- -- -- -- -- -- -- -- -- -- -- -- -- \n",
    "30: -- -- -- -- -- -- -- -- -- -- -- -- -- -- -- -- \n",
    "40: -- -- -- -- -- -- -- -- -- -- -- -- -- -- -- -- \n",
    "50: -- -- -- -- -- -- -- -- -- -- -- -- -- -- -- -- \n",
    "60: -- -- -- -- -- -- -- -- -- -- -- -- -- -- -- -- \n",
    "70: -- -- -- -- -- -- 76 --\n",
    "```"
   ]
  },
  {
   "cell_type": "markdown",
   "metadata": {},
   "source": [
    "### Automatic unloading / loading of kernel modules at boot time (Attention: does not work yet!)\n",
    "\n",
    "```\n",
    "$ sudo nano /etc/udev/rules.d/20-i2c-usb.rules\n",
    "\n",
    "#CH341 I2C to USB adapter\n",
    "ACTION==\"add\", SUBSYSTEM==\"i2c-dev\", ATTRS{idVendor}==\"1a86\", ATTRS{idProduct}==\"5512\", RUN+=\"/sbin/modprobe i2c-ch341-usb\"\n",
    "```\n",
    "\n",
    "Restart of the ```udev``` daemon:\n",
    "\n",
    "```\n",
    "$ sudo systemctl restart udev.service\n",
    "```"
   ]
  },
  {
   "cell_type": "markdown",
   "metadata": {},
   "source": [
    "# Test function to verify the successful installation of the BME280"
   ]
  },
  {
   "cell_type": "code",
   "execution_count": 4,
   "metadata": {},
   "outputs": [
    {
     "name": "stdout",
     "output_type": "stream",
     "text": [
      "2021-06-15 13:39:52 Temperature: 25.09 °C, Pressure: 1004.93 hPa, Humidity: 40.87 % rH\n"
     ]
    }
   ],
   "source": [
    "import smbus2\n",
    "import bme280\n",
    "import time\n",
    "\n",
    "# i2c bus on /dev/i2c-11\n",
    "port = 11\n",
    "# i2c address of BME280\n",
    "address = 0x76\n",
    "bus = smbus2.SMBus(port)\n",
    "\n",
    "INTERVAL = 1.0\n",
    "\n",
    "calibration_params = bme280.load_calibration_params(bus, address)\n",
    "\n",
    "#while True:\n",
    "# the sample method will take a single reading and return\n",
    "# a compensated_reading object\n",
    "data = bme280.sample(bus, address, calibration_params)\n",
    "\n",
    "# the compensated_reading class has the following attributes\n",
    "#print(data.id)\n",
    "#print(data.timestamp)\n",
    "#print(data.temperature)\n",
    "#print(data.pressure)\n",
    "#print(data.humidity)\n",
    "\n",
    "print(\"{time:s} Temperature: {temperature:.2f} °C, Pressure: {pressure:.2f} hPa, Humidity: {humidity:.2f} % rH\".format(time=data.timestamp.strftime('%Y-%m-%d %H:%M:%S'), temperature=data.temperature, pressure=data.pressure, humidity=data.humidity))\n",
    "    \n",
    "#    time.sleep(INTERVAL)\n",
    "\n",
    "# there is a handy string representation too\n",
    "#print(data)"
   ]
  },
  {
   "cell_type": "code",
   "execution_count": 2,
   "metadata": {},
   "outputs": [
    {
     "name": "stdout",
     "output_type": "stream",
     "text": [
      "compensated_reading(id=bfbe9ce3-6b92-4aae-9834-fc30f73f470e, timestamp=2021-06-15 12:21:47.415474, temp=24.634 °C, pressure=1005.60 hPa, humidity=41.73 % rH)\n"
     ]
    }
   ],
   "source": [
    "print(data)"
   ]
  },
  {
   "cell_type": "code",
   "execution_count": null,
   "metadata": {},
   "outputs": [],
   "source": []
  }
 ],
 "metadata": {
  "kernelspec": {
   "display_name": "Python 3",
   "language": "python",
   "name": "python3"
  },
  "language_info": {
   "codemirror_mode": {
    "name": "ipython",
    "version": 3
   },
   "file_extension": ".py",
   "mimetype": "text/x-python",
   "name": "python",
   "nbconvert_exporter": "python",
   "pygments_lexer": "ipython3",
   "version": "3.7.3"
  },
  "latex_metadata": {
   "affiliation": "BG ETEM",
   "author": "Björn Kasper",
   "email": "bjoern.kasper@online.de",
   "title": "BME280: Launching and reading the sensor values"
  }
 },
 "nbformat": 4,
 "nbformat_minor": 4
}
